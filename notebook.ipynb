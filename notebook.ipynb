{
 "cells": [
  {
   "cell_type": "code",
   "execution_count": 1,
   "metadata": {},
   "outputs": [],
   "source": [
    "import numpy as np"
   ]
  },
  {
   "cell_type": "code",
   "execution_count": 2,
   "metadata": {},
   "outputs": [],
   "source": [
    "from ann import Network"
   ]
  },
  {
   "cell_type": "code",
   "execution_count": 3,
   "metadata": {},
   "outputs": [],
   "source": [
    "rede = Network(4)"
   ]
  },
  {
   "cell_type": "code",
   "execution_count": 4,
   "metadata": {},
   "outputs": [],
   "source": [
    "rede.add_layer(5)\n",
    "rede.add_layer(3)"
   ]
  },
  {
   "cell_type": "code",
   "execution_count": 5,
   "metadata": {},
   "outputs": [
    {
     "data": {
      "text/plain": [
       "array([6.32518143, 3.37144342, 3.53874156])"
      ]
     },
     "execution_count": 5,
     "metadata": {},
     "output_type": "execute_result"
    }
   ],
   "source": [
    "rede.forward([1, 2, 3, 4])"
   ]
  },
  {
   "cell_type": "code",
   "execution_count": 6,
   "metadata": {},
   "outputs": [
    {
     "name": "stdout",
     "output_type": "stream",
     "text": [
      "camada 1\n",
      "weights [[ 0.86597723  0.24060651  0.2335654  -0.75647658  0.40348145]\n",
      " [ 0.27340379  0.59462405  0.60178116  0.93031387 -0.90882293]\n",
      " [-0.35479651 -0.39806135 -0.3554961  -0.29490785 -0.86535136]\n",
      " [-0.00783112 -0.94487382  0.32658997 -0.03974063 -0.15491624]]\n",
      "biases [ 0.32564529 -0.8072021   0.12174761  0.75482174  0.09506155]\n",
      "camada 2\n",
      "weights [[ 0.04171644 -0.8653364   0.43439138]\n",
      " [-0.89577578 -0.67380474 -0.62032046]\n",
      " [ 0.19345059 -0.23782615  0.40156417]\n",
      " [ 0.99246272 -0.12648834  0.32171887]\n",
      " [-0.16905625 -0.50492667  0.03619669]]\n",
      "biases [ 0.47707472 -0.76297262 -0.25993967]\n"
     ]
    }
   ],
   "source": [
    "rede.print()"
   ]
  },
  {
   "cell_type": "code",
   "execution_count": null,
   "metadata": {},
   "outputs": [],
   "source": []
  }
 ],
 "metadata": {
  "kernelspec": {
   "display_name": "Python 3",
   "language": "python",
   "name": "python3"
  },
  "language_info": {
   "codemirror_mode": {
    "name": "ipython",
    "version": 3
   },
   "file_extension": ".py",
   "mimetype": "text/x-python",
   "name": "python",
   "nbconvert_exporter": "python",
   "pygments_lexer": "ipython3",
   "version": "3.8.3"
  }
 },
 "nbformat": 4,
 "nbformat_minor": 4
}
