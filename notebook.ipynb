{
 "cells": [
  {
   "cell_type": "code",
   "execution_count": 1,
   "metadata": {},
   "outputs": [],
   "source": [
    "import numpy as np"
   ]
  },
  {
   "cell_type": "code",
   "execution_count": 2,
   "metadata": {},
   "outputs": [],
   "source": [
    "from ann import Network"
   ]
  },
  {
   "cell_type": "code",
   "execution_count": 3,
   "metadata": {},
   "outputs": [],
   "source": [
    "rede = Network(4)"
   ]
  },
  {
   "cell_type": "code",
   "execution_count": 4,
   "metadata": {},
   "outputs": [],
   "source": [
    "rede.add_layer(5, \"step\")\n",
    "rede.add_layer(3, \"sigmoid\")"
   ]
  },
  {
   "cell_type": "code",
   "execution_count": 5,
   "metadata": {},
   "outputs": [
    {
     "data": {
      "text/plain": [
       "array([0.53255697, 0.57647553, 0.75253318])"
      ]
     },
     "execution_count": 5,
     "metadata": {},
     "output_type": "execute_result"
    }
   ],
   "source": [
    "rede.forward([1, 2, 3, 4])"
   ]
  },
  {
   "cell_type": "code",
   "execution_count": 6,
   "metadata": {},
   "outputs": [
    {
     "name": "stdout",
     "output_type": "stream",
     "text": [
      "camada 1\n",
      "weights [[ 0.71200146  0.58061334  0.96287072 -0.30001766  0.4905043 ]\n",
      " [-0.78131637  0.85371383  0.93124779  0.48328853  0.39892105]\n",
      " [-0.78967832  0.13153654  0.64950193  0.74324148  0.76355232]\n",
      " [ 0.1553386  -0.71405616 -0.66727785 -0.55078244 -0.57221661]]\n",
      "biases [ 0.44901072 -0.95649548  0.36812645 -0.6180298  -0.28251006]\n",
      "camada 2\n",
      "weights [[ 0.88100539 -0.69359626 -0.0013148 ]\n",
      " [ 0.2235003   0.06298695  0.39394906]\n",
      " [ 0.60568621  0.69211399 -0.00476855]\n",
      " [-0.50504146 -0.35804325 -0.02584746]\n",
      " [ 0.34900383 -0.76624172  0.54765144]]\n",
      "biases [-0.3192362   0.74049259  0.59513315]\n"
     ]
    }
   ],
   "source": [
    "rede.print()"
   ]
  },
  {
   "cell_type": "code",
   "execution_count": null,
   "metadata": {},
   "outputs": [],
   "source": []
  },
  {
   "cell_type": "code",
   "execution_count": null,
   "metadata": {},
   "outputs": [],
   "source": []
  }
 ],
 "metadata": {
  "kernelspec": {
   "display_name": "Python 3",
   "language": "python",
   "name": "python3"
  },
  "language_info": {
   "codemirror_mode": {
    "name": "ipython",
    "version": 3
   },
   "file_extension": ".py",
   "mimetype": "text/x-python",
   "name": "python",
   "nbconvert_exporter": "python",
   "pygments_lexer": "ipython3",
   "version": "3.8.3"
  }
 },
 "nbformat": 4,
 "nbformat_minor": 4
}
